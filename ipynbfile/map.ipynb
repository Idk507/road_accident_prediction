{
 "cells": [
  {
   "cell_type": "code",
   "execution_count": 4,
   "metadata": {},
   "outputs": [],
   "source": [
    "import folium\n",
    "import pandas as pd\n",
    "from matplotlib import pyplot as plt \n",
    "import geopandas as gpd"
   ]
  },
  {
   "cell_type": "code",
   "execution_count": 5,
   "metadata": {},
   "outputs": [],
   "source": [
    "data = pd.read_csv(\"./Datasets/place map/Accident_Information.csv\")"
   ]
  },
  {
   "cell_type": "code",
   "execution_count": 6,
   "metadata": {},
   "outputs": [
    {
     "data": {
      "text/html": [
       "<div>\n",
       "<style scoped>\n",
       "    .dataframe tbody tr th:only-of-type {\n",
       "        vertical-align: middle;\n",
       "    }\n",
       "\n",
       "    .dataframe tbody tr th {\n",
       "        vertical-align: top;\n",
       "    }\n",
       "\n",
       "    .dataframe thead th {\n",
       "        text-align: right;\n",
       "    }\n",
       "</style>\n",
       "<table border=\"1\" class=\"dataframe\">\n",
       "  <thead>\n",
       "    <tr style=\"text-align: right;\">\n",
       "      <th></th>\n",
       "      <th>Accident_Index</th>\n",
       "      <th>1st_Road_Class</th>\n",
       "      <th>1st_Road_Number</th>\n",
       "      <th>2nd_Road_Class</th>\n",
       "      <th>2nd_Road_Number</th>\n",
       "      <th>Accident_Severity</th>\n",
       "      <th>Carriageway_Hazards</th>\n",
       "      <th>Date</th>\n",
       "      <th>Day_of_Week</th>\n",
       "      <th>Did_Police_Officer_Attend_Scene_of_Accident</th>\n",
       "      <th>...</th>\n",
       "      <th>Police_Force</th>\n",
       "      <th>Road_Surface_Conditions</th>\n",
       "      <th>Road_Type</th>\n",
       "      <th>Special_Conditions_at_Site</th>\n",
       "      <th>Speed_limit</th>\n",
       "      <th>Time</th>\n",
       "      <th>Urban_or_Rural_Area</th>\n",
       "      <th>Weather_Conditions</th>\n",
       "      <th>Year</th>\n",
       "      <th>InScotland</th>\n",
       "    </tr>\n",
       "  </thead>\n",
       "  <tbody>\n",
       "    <tr>\n",
       "      <th>0</th>\n",
       "      <td>201063DP43410</td>\n",
       "      <td>A</td>\n",
       "      <td>470</td>\n",
       "      <td>NaN</td>\n",
       "      <td>0.0</td>\n",
       "      <td>Slight</td>\n",
       "      <td>None</td>\n",
       "      <td>09-12-2010</td>\n",
       "      <td>Thursday</td>\n",
       "      <td>1</td>\n",
       "      <td>...</td>\n",
       "      <td>Dyfed-Powys</td>\n",
       "      <td>Frost or ice</td>\n",
       "      <td>Single carriageway</td>\n",
       "      <td>None</td>\n",
       "      <td>60</td>\n",
       "      <td>15:41</td>\n",
       "      <td>Rural</td>\n",
       "      <td>Other</td>\n",
       "      <td>2010</td>\n",
       "      <td>No</td>\n",
       "    </tr>\n",
       "    <tr>\n",
       "      <th>1</th>\n",
       "      <td>201063DP43310</td>\n",
       "      <td>A</td>\n",
       "      <td>470</td>\n",
       "      <td>NaN</td>\n",
       "      <td>0.0</td>\n",
       "      <td>Slight</td>\n",
       "      <td>None</td>\n",
       "      <td>27-12-2010</td>\n",
       "      <td>Monday</td>\n",
       "      <td>1</td>\n",
       "      <td>...</td>\n",
       "      <td>Dyfed-Powys</td>\n",
       "      <td>Frost or ice</td>\n",
       "      <td>Single carriageway</td>\n",
       "      <td>None</td>\n",
       "      <td>60</td>\n",
       "      <td>21:31</td>\n",
       "      <td>Rural</td>\n",
       "      <td>Other</td>\n",
       "      <td>2010</td>\n",
       "      <td>No</td>\n",
       "    </tr>\n",
       "    <tr>\n",
       "      <th>2</th>\n",
       "      <td>201063DP43210</td>\n",
       "      <td>Unclassified</td>\n",
       "      <td>0</td>\n",
       "      <td>NaN</td>\n",
       "      <td>0.0</td>\n",
       "      <td>Slight</td>\n",
       "      <td>None</td>\n",
       "      <td>08-11-2010</td>\n",
       "      <td>Monday</td>\n",
       "      <td>2</td>\n",
       "      <td>...</td>\n",
       "      <td>Dyfed-Powys</td>\n",
       "      <td>Wet or damp</td>\n",
       "      <td>Single carriageway</td>\n",
       "      <td>None</td>\n",
       "      <td>30</td>\n",
       "      <td>15:50</td>\n",
       "      <td>Rural</td>\n",
       "      <td>Fine no high winds</td>\n",
       "      <td>2010</td>\n",
       "      <td>No</td>\n",
       "    </tr>\n",
       "    <tr>\n",
       "      <th>3</th>\n",
       "      <td>201063DP43110</td>\n",
       "      <td>B</td>\n",
       "      <td>4568</td>\n",
       "      <td>NaN</td>\n",
       "      <td>0.0</td>\n",
       "      <td>Slight</td>\n",
       "      <td>Other object on road</td>\n",
       "      <td>16-10-2010</td>\n",
       "      <td>Saturday</td>\n",
       "      <td>1</td>\n",
       "      <td>...</td>\n",
       "      <td>Dyfed-Powys</td>\n",
       "      <td>Dry</td>\n",
       "      <td>Single carriageway</td>\n",
       "      <td>None</td>\n",
       "      <td>30</td>\n",
       "      <td>13:50</td>\n",
       "      <td>Urban</td>\n",
       "      <td>Fine no high winds</td>\n",
       "      <td>2010</td>\n",
       "      <td>No</td>\n",
       "    </tr>\n",
       "    <tr>\n",
       "      <th>4</th>\n",
       "      <td>201063DP42910</td>\n",
       "      <td>Unclassified</td>\n",
       "      <td>0</td>\n",
       "      <td>NaN</td>\n",
       "      <td>0.0</td>\n",
       "      <td>Slight</td>\n",
       "      <td>None</td>\n",
       "      <td>21-12-2010</td>\n",
       "      <td>Tuesday</td>\n",
       "      <td>1</td>\n",
       "      <td>...</td>\n",
       "      <td>Dyfed-Powys</td>\n",
       "      <td>Snow</td>\n",
       "      <td>One way street</td>\n",
       "      <td>None</td>\n",
       "      <td>30</td>\n",
       "      <td>13:59</td>\n",
       "      <td>Urban</td>\n",
       "      <td>Snowing no high winds</td>\n",
       "      <td>2010</td>\n",
       "      <td>No</td>\n",
       "    </tr>\n",
       "  </tbody>\n",
       "</table>\n",
       "<p>5 rows × 34 columns</p>\n",
       "</div>"
      ],
      "text/plain": [
       "  Accident_Index 1st_Road_Class  1st_Road_Number 2nd_Road_Class  \\\n",
       "0  201063DP43410              A              470            NaN   \n",
       "1  201063DP43310              A              470            NaN   \n",
       "2  201063DP43210   Unclassified                0            NaN   \n",
       "3  201063DP43110              B             4568            NaN   \n",
       "4  201063DP42910   Unclassified                0            NaN   \n",
       "\n",
       "   2nd_Road_Number Accident_Severity   Carriageway_Hazards        Date  \\\n",
       "0              0.0            Slight                  None  09-12-2010   \n",
       "1              0.0            Slight                  None  27-12-2010   \n",
       "2              0.0            Slight                  None  08-11-2010   \n",
       "3              0.0            Slight  Other object on road  16-10-2010   \n",
       "4              0.0            Slight                  None  21-12-2010   \n",
       "\n",
       "  Day_of_Week  Did_Police_Officer_Attend_Scene_of_Accident  ... Police_Force  \\\n",
       "0    Thursday                                            1  ...  Dyfed-Powys   \n",
       "1      Monday                                            1  ...  Dyfed-Powys   \n",
       "2      Monday                                            2  ...  Dyfed-Powys   \n",
       "3    Saturday                                            1  ...  Dyfed-Powys   \n",
       "4     Tuesday                                            1  ...  Dyfed-Powys   \n",
       "\n",
       "  Road_Surface_Conditions           Road_Type Special_Conditions_at_Site  \\\n",
       "0            Frost or ice  Single carriageway                       None   \n",
       "1            Frost or ice  Single carriageway                       None   \n",
       "2             Wet or damp  Single carriageway                       None   \n",
       "3                     Dry  Single carriageway                       None   \n",
       "4                    Snow      One way street                       None   \n",
       "\n",
       "  Speed_limit   Time  Urban_or_Rural_Area     Weather_Conditions  Year  \\\n",
       "0          60  15:41                Rural                  Other  2010   \n",
       "1          60  21:31                Rural                  Other  2010   \n",
       "2          30  15:50                Rural     Fine no high winds  2010   \n",
       "3          30  13:50                Urban     Fine no high winds  2010   \n",
       "4          30  13:59                Urban  Snowing no high winds  2010   \n",
       "\n",
       "  InScotland  \n",
       "0         No  \n",
       "1         No  \n",
       "2         No  \n",
       "3         No  \n",
       "4         No  \n",
       "\n",
       "[5 rows x 34 columns]"
      ]
     },
     "execution_count": 6,
     "metadata": {},
     "output_type": "execute_result"
    }
   ],
   "source": [
    "data.head()"
   ]
  },
  {
   "cell_type": "code",
   "execution_count": 7,
   "metadata": {},
   "outputs": [
    {
     "data": {
      "text/plain": [
       "Index(['Accident_Index', '1st_Road_Class', '1st_Road_Number', '2nd_Road_Class',\n",
       "       '2nd_Road_Number', 'Accident_Severity', 'Carriageway_Hazards', 'Date',\n",
       "       'Day_of_Week', 'Did_Police_Officer_Attend_Scene_of_Accident',\n",
       "       'Junction_Control', 'Junction_Detail', 'Latitude', 'Light_Conditions',\n",
       "       'Local_Authority_(District)', 'Local_Authority_(Highway)',\n",
       "       'Location_Easting_OSGR', 'Location_Northing_OSGR', 'Longitude',\n",
       "       'LSOA_of_Accident_Location', 'Number_of_Casualties',\n",
       "       'Number_of_Vehicles', 'Pedestrian_Crossing-Human_Control',\n",
       "       'Pedestrian_Crossing-Physical_Facilities', 'Police_Force',\n",
       "       'Road_Surface_Conditions', 'Road_Type', 'Special_Conditions_at_Site',\n",
       "       'Speed_limit', 'Time', 'Urban_or_Rural_Area', 'Weather_Conditions',\n",
       "       'Year', 'InScotland'],\n",
       "      dtype='object')"
      ]
     },
     "execution_count": 7,
     "metadata": {},
     "output_type": "execute_result"
    }
   ],
   "source": [
    "data.columns"
   ]
  },
  {
   "cell_type": "code",
   "execution_count": 8,
   "metadata": {},
   "outputs": [],
   "source": [
    "df = data[['Latitude','Longitude','Speed_limit','Weather_Conditions','Year','Time']]"
   ]
  },
  {
   "cell_type": "code",
   "execution_count": 9,
   "metadata": {},
   "outputs": [
    {
     "data": {
      "text/plain": [
       "Latitude              2\n",
       "Longitude             2\n",
       "Speed_limit           0\n",
       "Weather_Conditions    0\n",
       "Year                  0\n",
       "Time                  0\n",
       "dtype: int64"
      ]
     },
     "execution_count": 9,
     "metadata": {},
     "output_type": "execute_result"
    }
   ],
   "source": [
    "df.isnull().sum()"
   ]
  },
  {
   "cell_type": "code",
   "execution_count": 10,
   "metadata": {},
   "outputs": [],
   "source": [
    "df = df.dropna()"
   ]
  },
  {
   "cell_type": "code",
   "execution_count": 11,
   "metadata": {},
   "outputs": [
    {
     "data": {
      "text/plain": [
       "Latitude              0\n",
       "Longitude             0\n",
       "Speed_limit           0\n",
       "Weather_Conditions    0\n",
       "Year                  0\n",
       "Time                  0\n",
       "dtype: int64"
      ]
     },
     "execution_count": 11,
     "metadata": {},
     "output_type": "execute_result"
    }
   ],
   "source": [
    "df.isnull().sum()"
   ]
  },
  {
   "cell_type": "code",
   "execution_count": 12,
   "metadata": {},
   "outputs": [
    {
     "data": {
      "text/html": [
       "<div>\n",
       "<style scoped>\n",
       "    .dataframe tbody tr th:only-of-type {\n",
       "        vertical-align: middle;\n",
       "    }\n",
       "\n",
       "    .dataframe tbody tr th {\n",
       "        vertical-align: top;\n",
       "    }\n",
       "\n",
       "    .dataframe thead th {\n",
       "        text-align: right;\n",
       "    }\n",
       "</style>\n",
       "<table border=\"1\" class=\"dataframe\">\n",
       "  <thead>\n",
       "    <tr style=\"text-align: right;\">\n",
       "      <th></th>\n",
       "      <th>Latitude</th>\n",
       "      <th>Longitude</th>\n",
       "      <th>Speed_limit</th>\n",
       "      <th>Weather_Conditions</th>\n",
       "      <th>Year</th>\n",
       "      <th>Time</th>\n",
       "    </tr>\n",
       "  </thead>\n",
       "  <tbody>\n",
       "    <tr>\n",
       "      <th>0</th>\n",
       "      <td>14.724026</td>\n",
       "      <td>78.610393</td>\n",
       "      <td>60</td>\n",
       "      <td>Other</td>\n",
       "      <td>2010</td>\n",
       "      <td>15:41</td>\n",
       "    </tr>\n",
       "    <tr>\n",
       "      <th>1</th>\n",
       "      <td>14.762353</td>\n",
       "      <td>78.534042</td>\n",
       "      <td>60</td>\n",
       "      <td>Other</td>\n",
       "      <td>2010</td>\n",
       "      <td>21:31</td>\n",
       "    </tr>\n",
       "    <tr>\n",
       "      <th>2</th>\n",
       "      <td>14.745606</td>\n",
       "      <td>78.470877</td>\n",
       "      <td>30</td>\n",
       "      <td>Fine no high winds</td>\n",
       "      <td>2010</td>\n",
       "      <td>15:50</td>\n",
       "    </tr>\n",
       "    <tr>\n",
       "      <th>3</th>\n",
       "      <td>14.667128</td>\n",
       "      <td>78.557994</td>\n",
       "      <td>30</td>\n",
       "      <td>Fine no high winds</td>\n",
       "      <td>2010</td>\n",
       "      <td>13:50</td>\n",
       "    </tr>\n",
       "    <tr>\n",
       "      <th>4</th>\n",
       "      <td>14.703443</td>\n",
       "      <td>78.576431</td>\n",
       "      <td>30</td>\n",
       "      <td>Snowing no high winds</td>\n",
       "      <td>2010</td>\n",
       "      <td>13:59</td>\n",
       "    </tr>\n",
       "  </tbody>\n",
       "</table>\n",
       "</div>"
      ],
      "text/plain": [
       "    Latitude  Longitude  Speed_limit     Weather_Conditions  Year   Time\n",
       "0  14.724026  78.610393           60                  Other  2010  15:41\n",
       "1  14.762353  78.534042           60                  Other  2010  21:31\n",
       "2  14.745606  78.470877           30     Fine no high winds  2010  15:50\n",
       "3  14.667128  78.557994           30     Fine no high winds  2010  13:50\n",
       "4  14.703443  78.576431           30  Snowing no high winds  2010  13:59"
      ]
     },
     "execution_count": 12,
     "metadata": {},
     "output_type": "execute_result"
    }
   ],
   "source": [
    "df.head()"
   ]
  },
  {
   "cell_type": "code",
   "execution_count": 13,
   "metadata": {},
   "outputs": [],
   "source": [
    "india_map = folium.Map(location=[20.5937, 78.9629], zoom_start=5)\n",
    "for index, row in df.iterrows():\n",
    "    popup_text = f\"Year: {row['Year']}<br>Speed Limit: {row['Speed_limit']}<br>Weather Condition: {row['Weather_Conditions']}<br>Time: {row['Time']}\"\n",
    "    folium.Marker(location=[row['Latitude'], row['Longitude']], popup=popup_text).add_to(india_map)\n",
    "india_map.save('india_map_with_popups.html')"
   ]
  },
  {
   "cell_type": "code",
   "execution_count": 14,
   "metadata": {},
   "outputs": [],
   "source": [
    "sample = data.head(1)"
   ]
  },
  {
   "cell_type": "code",
   "execution_count": 15,
   "metadata": {},
   "outputs": [],
   "source": [
    "sample.to_csv('sample.csv')"
   ]
  },
  {
   "cell_type": "code",
   "execution_count": null,
   "metadata": {},
   "outputs": [],
   "source": [
    "for i in range(20):\n",
    "    sample = data.head(i)\n",
    "    sample.to_csv(f'./Datasets/place map/sample_test/sample{i}.csv')"
   ]
  }
 ],
 "metadata": {
  "kernelspec": {
   "display_name": "master",
   "language": "python",
   "name": "python3"
  },
  "language_info": {
   "codemirror_mode": {
    "name": "ipython",
    "version": 3
   },
   "file_extension": ".py",
   "mimetype": "text/x-python",
   "name": "python",
   "nbconvert_exporter": "python",
   "pygments_lexer": "ipython3",
   "version": "3.11.5"
  }
 },
 "nbformat": 4,
 "nbformat_minor": 2
}
